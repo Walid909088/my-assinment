{
 "cells": [
  {
   "cell_type": "code",
   "execution_count": 6,
   "id": "0bbfed51-12ca-4cdb-980f-8f828212bdc7",
   "metadata": {},
   "outputs": [
    {
     "name": "stdin",
     "output_type": "stream",
     "text": [
      "enter your value= 8\n",
      "enter your value= 3\n"
     ]
    },
    {
     "name": "stdout",
     "output_type": "stream",
     "text": [
      "a is maximum than b\n"
     ]
    }
   ],
   "source": [
    "a=float(input(\"enter your value=\"))\n",
    "b=float(input(\"enter your value=\"))\n",
    "print(\"a is maximum than b\" if a>b else \" b is maximum than a\")"
   ]
  },
  {
   "cell_type": "code",
   "execution_count": 7,
   "id": "d92304b9-d109-450e-9483-80abbff1a480",
   "metadata": {},
   "outputs": [
    {
     "name": "stdout",
     "output_type": "stream",
     "text": [
      "6\n"
     ]
    }
   ],
   "source": [
    "x=[3,5,6]\n",
    "print(max(x))"
   ]
  },
  {
   "cell_type": "code",
   "execution_count": 11,
   "id": "c50774de-7317-47f2-ad95-7c838c24f008",
   "metadata": {},
   "outputs": [
    {
     "name": "stdin",
     "output_type": "stream",
     "text": [
      "enter your value= 5\n"
     ]
    },
    {
     "name": "stdout",
     "output_type": "stream",
     "text": [
      "The number is positive\n"
     ]
    }
   ],
   "source": [
    "a=float(input(\"enter your value=\"))\n",
    "print(\"The number is positive\" if a>=0 else \" The number is negative\")"
   ]
  },
  {
   "cell_type": "code",
   "execution_count": 14,
   "id": "86da7dc3-d5c7-42be-a6aa-6a99a0373eae",
   "metadata": {},
   "outputs": [
    {
     "name": "stdin",
     "output_type": "stream",
     "text": [
      "enter your value= 9\n"
     ]
    },
    {
     "name": "stdout",
     "output_type": "stream",
     "text": [
      " The number is odd\n"
     ]
    }
   ],
   "source": [
    "a=float(input(\"enter your value=\"))\n",
    "print(\"The number is even\" if a%2==0 else \" The number is odd\")"
   ]
  },
  {
   "cell_type": "code",
   "execution_count": 18,
   "id": "b8aa63e2-cde8-41c7-b43f-edc1fba5c9af",
   "metadata": {},
   "outputs": [
    {
     "name": "stdin",
     "output_type": "stream",
     "text": [
      "enter year days= 400\n"
     ]
    },
    {
     "name": "stdout",
     "output_type": "stream",
     "text": [
      " The year is leap\n"
     ]
    }
   ],
   "source": [
    "a=float(input(\"enter year days=\"))\n",
    "print(\"The year is not leap\" if a<=365 else \" The year is leap\")"
   ]
  },
  {
   "cell_type": "code",
   "execution_count": 26,
   "id": "49727ed6-3c37-40de-bd69-8ea5a71ad51f",
   "metadata": {},
   "outputs": [
    {
     "name": "stdout",
     "output_type": "stream",
     "text": [
      "a\n",
      "b\n",
      "c\n",
      "d\n",
      "e\n",
      "f\n",
      "g\n",
      "h\n",
      "i\n",
      "j\n",
      "k\n",
      "l\n",
      "m\n",
      "n\n",
      "o\n",
      "p\n",
      "q\n",
      "r\n",
      "s\n",
      "t\n",
      "u\n",
      "v\n",
      "w\n",
      "x\n",
      "y\n",
      "z\n"
     ]
    }
   ],
   "source": [
    "i=\"a\"\n",
    "while ord(i) <= ord('z'):\n",
    "    print(i)\n",
    "    i = chr(ord(i) + 1)"
   ]
  },
  {
   "cell_type": "code",
   "execution_count": 1,
   "id": "1b6a13ef-369a-494d-9e0f-d290601f3080",
   "metadata": {},
   "outputs": [
    {
     "name": "stdin",
     "output_type": "stream",
     "text": [
      "Enter your number: 2\n"
     ]
    },
    {
     "name": "stdout",
     "output_type": "stream",
     "text": [
      "0.0\n",
      "2.0\n",
      "4.0\n",
      "6.0\n",
      "8.0\n",
      "10.0\n",
      "12.0\n",
      "14.0\n",
      "16.0\n",
      "18.0\n",
      "20.0\n",
      "22.0\n",
      "24.0\n"
     ]
    }
   ],
   "source": [
    "x=float(input(\"Enter your number:\"))\n",
    "for i in range (13):\n",
    "    print(x*i)"
   ]
  },
  {
   "cell_type": "code",
   "execution_count": 8,
   "id": "8a157ca8-18b5-4a73-bf6b-7c957d97ca73",
   "metadata": {},
   "outputs": [
    {
     "name": "stdout",
     "output_type": "stream",
     "text": [
      "2\n",
      "4\n",
      "6\n",
      "8\n",
      "10\n",
      "12\n",
      "14\n",
      "16\n",
      "18\n",
      "20\n",
      "22\n",
      "24\n",
      "26\n",
      "28\n",
      "30\n",
      "32\n",
      "34\n",
      "36\n",
      "38\n",
      "40\n",
      "42\n",
      "44\n",
      "46\n",
      "48\n",
      "50\n",
      "52\n",
      "54\n",
      "56\n",
      "58\n",
      "60\n",
      "62\n",
      "64\n",
      "66\n",
      "68\n",
      "70\n",
      "72\n",
      "74\n",
      "76\n",
      "78\n",
      "80\n",
      "82\n",
      "84\n",
      "86\n",
      "88\n",
      "90\n",
      "92\n",
      "94\n",
      "96\n",
      "98\n",
      "100\n"
     ]
    }
   ],
   "source": [
    "for i in range (1,101):\n",
    "  if i%2==0:\n",
    "     print(i)"
   ]
  },
  {
   "cell_type": "code",
   "execution_count": 15,
   "id": "3d85a6c1-0f48-4160-89c9-0076c3dbc027",
   "metadata": {},
   "outputs": [
    {
     "name": "stdout",
     "output_type": "stream",
     "text": [
      "45\n",
      "1\n",
      "9\n"
     ]
    }
   ],
   "source": [
    "x=[1,2,3,4,5,6,7,8,9]\n",
    "print(sum(x))\n",
    "print(min(x))\n",
    "print(max(x))"
   ]
  },
  {
   "cell_type": "code",
   "execution_count": 22,
   "id": "996f05a7-cfe6-40d3-b23b-0bd9b5c46059",
   "metadata": {},
   "outputs": [
    {
     "ename": "AttributeError",
     "evalue": "'tuple' object has no attribute 'append'",
     "output_type": "error",
     "traceback": [
      "\u001b[1;31m---------------------------------------------------------------------------\u001b[0m",
      "\u001b[1;31mAttributeError\u001b[0m                            Traceback (most recent call last)",
      "Cell \u001b[1;32mIn[22], line 2\u001b[0m\n\u001b[0;32m      1\u001b[0m x\u001b[38;5;241m=\u001b[39m(\u001b[38;5;241m1\u001b[39m,\u001b[38;5;241m2\u001b[39m,\u001b[38;5;241m3\u001b[39m)\n\u001b[1;32m----> 2\u001b[0m x\u001b[38;5;241m.\u001b[39mappend(\u001b[38;5;241m1\u001b[39m)\n\u001b[0;32m      3\u001b[0m \u001b[38;5;28mprint\u001b[39m(x)\n",
      "\u001b[1;31mAttributeError\u001b[0m: 'tuple' object has no attribute 'append'"
     ]
    }
   ],
   "source": [
    "x=(1,2,3)\n",
    "x.append(1)\n",
    "print(x)"
   ]
  },
  {
   "cell_type": "code",
   "execution_count": 23,
   "id": "baef0bee-450d-4bf8-b8d7-007de8fef7af",
   "metadata": {},
   "outputs": [
    {
     "name": "stdout",
     "output_type": "stream",
     "text": [
      "{1, 2, 3}\n"
     ]
    }
   ],
   "source": [
    "x={1,2,3,4}\n",
    "x.remove(4)\n",
    "print(x)"
   ]
  },
  {
   "cell_type": "code",
   "execution_count": 24,
   "id": "a24e6d85-6b57-401e-a3c2-57e7a5a08aee",
   "metadata": {},
   "outputs": [
    {
     "name": "stdout",
     "output_type": "stream",
     "text": [
      "set()\n"
     ]
    }
   ],
   "source": [
    "x={1,2,3,4}\n",
    "x.clear()\n",
    "print(x)"
   ]
  },
  {
   "cell_type": "code",
   "execution_count": 25,
   "id": "180acb49-4215-44bf-8e22-7b87acaf993d",
   "metadata": {},
   "outputs": [
    {
     "name": "stdout",
     "output_type": "stream",
     "text": [
      "1\n",
      "4\n"
     ]
    }
   ],
   "source": [
    "x={1,2,3,4}\n",
    "print(min(x))\n",
    "print(max(x))"
   ]
  },
  {
   "cell_type": "code",
   "execution_count": 30,
   "id": "3783a90c-4397-4280-a756-24867fb3e3f3",
   "metadata": {},
   "outputs": [
    {
     "name": "stdout",
     "output_type": "stream",
     "text": [
      "0\n"
     ]
    },
    {
     "ename": "AttributeError",
     "evalue": "'tuple' object has no attribute 'reverse'",
     "output_type": "error",
     "traceback": [
      "\u001b[1;31m---------------------------------------------------------------------------\u001b[0m",
      "\u001b[1;31mAttributeError\u001b[0m                            Traceback (most recent call last)",
      "Cell \u001b[1;32mIn[30], line 3\u001b[0m\n\u001b[0;32m      1\u001b[0m x\u001b[38;5;241m=\u001b[39m(\u001b[38;5;241m1\u001b[39m,\u001b[38;5;241m2\u001b[39m,\u001b[38;5;241m3\u001b[39m)\n\u001b[0;32m      2\u001b[0m \u001b[38;5;28mprint\u001b[39m(x\u001b[38;5;241m.\u001b[39mindex(\u001b[38;5;241m1\u001b[39m))\n\u001b[1;32m----> 3\u001b[0m \u001b[38;5;28mprint\u001b[39m(x\u001b[38;5;241m.\u001b[39mreverse())\n",
      "\u001b[1;31mAttributeError\u001b[0m: 'tuple' object has no attribute 'reverse'"
     ]
    }
   ],
   "source": [
    "x=(1,2,3)\n",
    "print(x.index(1))"
   ]
  },
  {
   "cell_type": "code",
   "execution_count": 29,
   "id": "1ce74b61-486d-4c87-aa1a-4b926a563c19",
   "metadata": {},
   "outputs": [
    {
     "name": "stdout",
     "output_type": "stream",
     "text": [
      "{'a': 1, 'b': 2}\n"
     ]
    }
   ],
   "source": [
    "x=((\"a\",1),(\"b\",2))\n",
    "y=dict(x)\n",
    "print(y)\n"
   ]
  },
  {
   "cell_type": "code",
   "execution_count": null,
   "id": "ffc42e7c-e459-4968-b685-a369e1aea7ae",
   "metadata": {},
   "outputs": [],
   "source": []
  }
 ],
 "metadata": {
  "kernelspec": {
   "display_name": "Python 3 (ipykernel)",
   "language": "python",
   "name": "python3"
  },
  "language_info": {
   "codemirror_mode": {
    "name": "ipython",
    "version": 3
   },
   "file_extension": ".py",
   "mimetype": "text/x-python",
   "name": "python",
   "nbconvert_exporter": "python",
   "pygments_lexer": "ipython3",
   "version": "3.11.7"
  }
 },
 "nbformat": 4,
 "nbformat_minor": 5
}
